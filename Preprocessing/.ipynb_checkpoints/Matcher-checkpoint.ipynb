{
 "cells": [
  {
   "cell_type": "code",
   "execution_count": 2,
   "metadata": {},
   "outputs": [
    {
     "name": "stdout",
     "output_type": "stream",
     "text": [
      "The autoreload extension is already loaded. To reload it, use:\n",
      "  %reload_ext autoreload\n"
     ]
    }
   ],
   "source": [
    "from skimage import io ,transform ,feature,measure,filters,morphology,transform\n",
    "from skimage.color import rgb2gray\n",
    "import matplotlib.pyplot as plt\n",
    "import matplotlib.patches as mpatches\n",
    "import os\n",
    "import numpy as np\n",
    "import cv2\n",
    "%matplotlib inline\n",
    "%load_ext autoreload\n",
    "%autoreload 2\n",
    "import glob\n",
    "from commonfunctions import *"
   ]
  },
  {
   "cell_type": "code",
   "execution_count": 3,
   "metadata": {},
   "outputs": [],
   "source": [
    "def match(img,templates,threshold):\n",
    "        (img_width, img_height) = img.shape\n",
    "        best_location_count = -1\n",
    "        best_locations = []\n",
    "        best_scale = 1\n",
    "\n",
    "  \n",
    "        for scale in [i/100.0 for i in range(50, 100, 3)]:\n",
    "            locations = []\n",
    "            location_count = 0\n",
    "\n",
    "            for template in templates:\n",
    "                if (scale*template.shape[0] > img_width or scale*template.shape[1] > img_height):\n",
    "                    continue\n",
    "\n",
    "                template = transform.resize(template, scale*template.shape)\n",
    "                result = filters.match_template(img, template)\n",
    "                result = np.where(result >= threshold)\n",
    "                location_count += len(result[0])\n",
    "                locations += [result]\n",
    "   \n",
    "  \n",
    "            if (location_count > best_location_count):\n",
    "                best_location_count = location_count\n",
    "                best_locations = locations\n",
    "                best_scale = scale\n",
    "            elif (location_count < best_location_count):\n",
    "                pass\n",
    "\n",
    "        return best_locations, best_scale"
   ]
  },
  {
   "cell_type": "code",
   "execution_count": null,
   "metadata": {},
   "outputs": [],
   "source": [
    "# match()"
   ]
  }
 ],
 "metadata": {
  "kernelspec": {
   "display_name": "Python 3",
   "language": "python",
   "name": "python3"
  },
  "language_info": {
   "codemirror_mode": {
    "name": "ipython",
    "version": 3
   },
   "file_extension": ".py",
   "mimetype": "text/x-python",
   "name": "python",
   "nbconvert_exporter": "python",
   "pygments_lexer": "ipython3",
   "version": "3.8.5"
  }
 },
 "nbformat": 4,
 "nbformat_minor": 4
}
